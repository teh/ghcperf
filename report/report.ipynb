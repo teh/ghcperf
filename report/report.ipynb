{
 "cells": [
  {
   "cell_type": "markdown",
   "metadata": {},
   "source": [
    "# ghcperf report \n",
    "\n",
    "See https://github.com/teh/ghcperf for more details."
   ]
  },
  {
   "cell_type": "code",
   "execution_count": 1,
   "metadata": {
    "collapsed": false
   },
   "outputs": [
    {
     "name": "stderr",
     "output_type": "stream",
     "text": [
      "/nix/store/5d2qd7ax9ww1jc5iavg9s36j56z765a4-python2.7-matplotlib-1.5.1/lib/python2.7/site-packages/matplotlib/__init__.py:872: UserWarning: axes.color_cycle is deprecated and replaced with axes.prop_cycle; please use the latter.\n",
      "  warnings.warn(self.msg_depr % (key, alt_key))\n"
     ]
    }
   ],
   "source": [
    "%matplotlib inline\n",
    "import glob\n",
    "import pandas\n",
    "import json\n",
    "import datetime\n",
    "import seaborn"
   ]
  },
  {
   "cell_type": "code",
   "execution_count": 2,
   "metadata": {
    "collapsed": false
   },
   "outputs": [
    {
     "data": {
      "text/plain": [
       "'2016-03-11T18:43:30.699367'"
      ]
     },
     "execution_count": 2,
     "metadata": {},
     "output_type": "execute_result"
    }
   ],
   "source": [
    "datetime.datetime.utcnow().isoformat()"
   ]
  },
  {
   "cell_type": "markdown",
   "metadata": {},
   "source": [
    "First copy the data fro S3."
   ]
  },
  {
   "cell_type": "code",
   "execution_count": 3,
   "metadata": {
    "collapsed": false
   },
   "outputs": [
    {
     "name": "stdout",
     "output_type": "stream",
     "text": [
      "    131     131   13409\r\n"
     ]
    }
   ],
   "source": [
    "# Abuse /tmp as a cache so we don't do so many GETs\n",
    "!mkdir -p /tmp/report-data\n",
    "!aws s3 sync s3://ghcperf-results /tmp/report-data --no-sign-request --quiet\n",
    "!find /tmp/report-data | wc"
   ]
  },
  {
   "cell_type": "code",
   "execution_count": 4,
   "metadata": {
    "collapsed": true
   },
   "outputs": [],
   "source": [
    "def parse_name(s):\n",
    "    # Takes \n",
    "    # /tmp/report-data/5a494d8ec688e42601262913172f24cee7a36c9b/perf-1yjvliagav9mf7klzl4qjqs95iggv343-scientific-0.3.4.4.csv\n",
    "    # returns\n",
    "    # 5a494d8..., scientific-0.3.4.4\n",
    "    parts = s.split('/')\n",
    "    name = parts[4].split('-', 3)[2]\n",
    "    sha = parts[3]\n",
    "    return sha, name\n",
    "def read(x):\n",
    "    df = pandas.read_csv(x, skiprows=2, header=None, names=[\"value\", \"?\", \"name\", \"long_value\", \"?2\"])\n",
    "    sha, package = parse_name(x)\n",
    "    df['sha'] = sha[:8]\n",
    "    df['package'] = package\n",
    "    with open('/tmp/report-data/' + sha + \"/\" + \"commit_meta.json\") as f:\n",
    "        commit = json.load(f)\n",
    "        df['timestamp'] = commit['committer']['date'] \n",
    "    return df"
   ]
  },
  {
   "cell_type": "code",
   "execution_count": 5,
   "metadata": {
    "collapsed": false
   },
   "outputs": [
    {
     "data": {
      "text/html": [
       "<div>\n",
       "<table border=\"1\" class=\"dataframe\">\n",
       "  <thead>\n",
       "    <tr style=\"text-align: right;\">\n",
       "      <th></th>\n",
       "      <th>value</th>\n",
       "      <th>?</th>\n",
       "      <th>name</th>\n",
       "      <th>long_value</th>\n",
       "      <th>?2</th>\n",
       "      <th>sha</th>\n",
       "      <th>package</th>\n",
       "      <th>timestamp</th>\n",
       "    </tr>\n",
       "  </thead>\n",
       "  <tbody>\n",
       "    <tr>\n",
       "      <th>0</th>\n",
       "      <td>14088.158969</td>\n",
       "      <td>NaN</td>\n",
       "      <td>task-clock</td>\n",
       "      <td>14088158969</td>\n",
       "      <td>100</td>\n",
       "      <td>7ba817c2</td>\n",
       "      <td>mtl</td>\n",
       "      <td>2016-03-11T12:23:30Z</td>\n",
       "    </tr>\n",
       "    <tr>\n",
       "      <th>1</th>\n",
       "      <td>24494</td>\n",
       "      <td>NaN</td>\n",
       "      <td>context-switches</td>\n",
       "      <td>14088158969</td>\n",
       "      <td>100</td>\n",
       "      <td>7ba817c2</td>\n",
       "      <td>mtl</td>\n",
       "      <td>2016-03-11T12:23:30Z</td>\n",
       "    </tr>\n",
       "    <tr>\n",
       "      <th>2</th>\n",
       "      <td>14844</td>\n",
       "      <td>NaN</td>\n",
       "      <td>cpu-migrations</td>\n",
       "      <td>14088158969</td>\n",
       "      <td>100</td>\n",
       "      <td>7ba817c2</td>\n",
       "      <td>mtl</td>\n",
       "      <td>2016-03-11T12:23:30Z</td>\n",
       "    </tr>\n",
       "    <tr>\n",
       "      <th>3</th>\n",
       "      <td>1581144</td>\n",
       "      <td>NaN</td>\n",
       "      <td>page-faults</td>\n",
       "      <td>14088158969</td>\n",
       "      <td>100</td>\n",
       "      <td>7ba817c2</td>\n",
       "      <td>mtl</td>\n",
       "      <td>2016-03-11T12:23:30Z</td>\n",
       "    </tr>\n",
       "    <tr>\n",
       "      <th>4</th>\n",
       "      <td>&lt;not supported&gt;</td>\n",
       "      <td>NaN</td>\n",
       "      <td>cycles</td>\n",
       "      <td>0</td>\n",
       "      <td>100</td>\n",
       "      <td>7ba817c2</td>\n",
       "      <td>mtl</td>\n",
       "      <td>2016-03-11T12:23:30Z</td>\n",
       "    </tr>\n",
       "  </tbody>\n",
       "</table>\n",
       "</div>"
      ],
      "text/plain": [
       "             value   ?              name   long_value   ?2       sha package  \\\n",
       "0     14088.158969 NaN        task-clock  14088158969  100  7ba817c2     mtl   \n",
       "1            24494 NaN  context-switches  14088158969  100  7ba817c2     mtl   \n",
       "2            14844 NaN    cpu-migrations  14088158969  100  7ba817c2     mtl   \n",
       "3          1581144 NaN       page-faults  14088158969  100  7ba817c2     mtl   \n",
       "4  <not supported> NaN            cycles            0  100  7ba817c2     mtl   \n",
       "\n",
       "              timestamp  \n",
       "0  2016-03-11T12:23:30Z  \n",
       "1  2016-03-11T12:23:30Z  \n",
       "2  2016-03-11T12:23:30Z  \n",
       "3  2016-03-11T12:23:30Z  \n",
       "4  2016-03-11T12:23:30Z  "
      ]
     },
     "execution_count": 5,
     "metadata": {},
     "output_type": "execute_result"
    }
   ],
   "source": [
    "df = pandas.concat([read(x) for x in glob.glob('/tmp/report-data/*/*csv')], axis=0)\n",
    "df.head()"
   ]
  },
  {
   "cell_type": "code",
   "execution_count": 6,
   "metadata": {
    "collapsed": false
   },
   "outputs": [],
   "source": [
    "df = df[(df.name == \"task-clock\")]\n",
    "df['value'] = df['value'].astype('float')\n",
    "df['timestamp'] = df['timestamp'].astype('datetime64[ns]')"
   ]
  },
  {
   "cell_type": "code",
   "execution_count": 7,
   "metadata": {
    "collapsed": false
   },
   "outputs": [],
   "source": [
    "plot_df = df[df.package.isin(['aeson', 'text'])]\\\n",
    "    .groupby(['timestamp', 'sha', 'package'])\\\n",
    "    .value\\\n",
    "    .agg(['mean', 'median', 'std'])"
   ]
  },
  {
   "cell_type": "markdown",
   "metadata": {},
   "source": [
    "# task-clock over time"
   ]
  },
  {
   "cell_type": "code",
   "execution_count": 15,
   "metadata": {
    "collapsed": false
   },
   "outputs": [
    {
     "data": {
      "image/png": "[encoded data removed]",
      "text/plain": [
       "<matplotlib.figure.Figure at 0x7fc673545610>"
      ]
     },
     "metadata": {},
     "output_type": "display_data"
    }
   ],
   "source": [
    "pdf = plot_df.unstack().reset_index(level=1, drop=True)\n",
    "_ = pdf['mean'].plot(yerr=pdf['std'], subplots=True, figsize=(10, 8))"
   ]
  },
  {
   "cell_type": "code",
   "execution_count": 9,
   "metadata": {
    "collapsed": false
   },
   "outputs": [
    {
     "data": {
      "text/html": [
       "<div>\n",
       "<table border=\"1\" class=\"dataframe\">\n",
       "  <thead>\n",
       "    <tr style=\"text-align: right;\">\n",
       "      <th></th>\n",
       "      <th></th>\n",
       "      <th></th>\n",
       "      <th>mean</th>\n",
       "      <th>median</th>\n",
       "      <th>std</th>\n",
       "    </tr>\n",
       "    <tr>\n",
       "      <th>timestamp</th>\n",
       "      <th>sha</th>\n",
       "      <th>package</th>\n",
       "      <th></th>\n",
       "      <th></th>\n",
       "      <th></th>\n",
       "    </tr>\n",
       "  </thead>\n",
       "  <tbody>\n",
       "    <tr>\n",
       "      <th rowspan=\"2\" valign=\"top\">2016-03-09 13:16:13</th>\n",
       "      <th rowspan=\"2\" valign=\"top\">5a494d8e</th>\n",
       "      <th>aeson</th>\n",
       "      <td>124054.787897</td>\n",
       "      <td>124017.765628</td>\n",
       "      <td>120.770088</td>\n",
       "    </tr>\n",
       "    <tr>\n",
       "      <th>text</th>\n",
       "      <td>112309.488031</td>\n",
       "      <td>112286.952585</td>\n",
       "      <td>82.997220</td>\n",
       "    </tr>\n",
       "    <tr>\n",
       "      <th rowspan=\"2\" valign=\"top\">2016-03-09 22:11:57</th>\n",
       "      <th rowspan=\"2\" valign=\"top\">374f9199</th>\n",
       "      <th>aeson</th>\n",
       "      <td>124056.637195</td>\n",
       "      <td>124054.835207</td>\n",
       "      <td>53.562156</td>\n",
       "    </tr>\n",
       "    <tr>\n",
       "      <th>text</th>\n",
       "      <td>112209.365236</td>\n",
       "      <td>112228.105015</td>\n",
       "      <td>132.786385</td>\n",
       "    </tr>\n",
       "    <tr>\n",
       "      <th rowspan=\"2\" valign=\"top\">2016-03-10 21:53:27</th>\n",
       "      <th rowspan=\"2\" valign=\"top\">c42cdb7f</th>\n",
       "      <th>aeson</th>\n",
       "      <td>124124.839806</td>\n",
       "      <td>124104.611856</td>\n",
       "      <td>36.493816</td>\n",
       "    </tr>\n",
       "    <tr>\n",
       "      <th>text</th>\n",
       "      <td>112385.971533</td>\n",
       "      <td>112401.330052</td>\n",
       "      <td>219.707084</td>\n",
       "    </tr>\n",
       "    <tr>\n",
       "      <th rowspan=\"2\" valign=\"top\">2016-03-11 12:23:30</th>\n",
       "      <th rowspan=\"2\" valign=\"top\">7ba817c2</th>\n",
       "      <th>aeson</th>\n",
       "      <td>124955.540782</td>\n",
       "      <td>124688.456397</td>\n",
       "      <td>490.378315</td>\n",
       "    </tr>\n",
       "    <tr>\n",
       "      <th>text</th>\n",
       "      <td>112657.546010</td>\n",
       "      <td>112666.318620</td>\n",
       "      <td>51.160759</td>\n",
       "    </tr>\n",
       "    <tr>\n",
       "      <th rowspan=\"2\" valign=\"top\">2016-03-11 16:14:25</th>\n",
       "      <th rowspan=\"2\" valign=\"top\">2f45cf3f</th>\n",
       "      <th>aeson</th>\n",
       "      <td>124598.138842</td>\n",
       "      <td>124593.152554</td>\n",
       "      <td>76.523914</td>\n",
       "    </tr>\n",
       "    <tr>\n",
       "      <th>text</th>\n",
       "      <td>112803.243838</td>\n",
       "      <td>112802.888654</td>\n",
       "      <td>109.675139</td>\n",
       "    </tr>\n",
       "  </tbody>\n",
       "</table>\n",
       "</div>"
      ],
      "text/plain": [
       "                                               mean         median         std\n",
       "timestamp           sha      package                                          \n",
       "2016-03-09 13:16:13 5a494d8e aeson    124054.787897  124017.765628  120.770088\n",
       "                             text     112309.488031  112286.952585   82.997220\n",
       "2016-03-09 22:11:57 374f9199 aeson    124056.637195  124054.835207   53.562156\n",
       "                             text     112209.365236  112228.105015  132.786385\n",
       "2016-03-10 21:53:27 c42cdb7f aeson    124124.839806  124104.611856   36.493816\n",
       "                             text     112385.971533  112401.330052  219.707084\n",
       "2016-03-11 12:23:30 7ba817c2 aeson    124955.540782  124688.456397  490.378315\n",
       "                             text     112657.546010  112666.318620   51.160759\n",
       "2016-03-11 16:14:25 2f45cf3f aeson    124598.138842  124593.152554   76.523914\n",
       "                             text     112803.243838  112802.888654  109.675139"
      ]
     },
     "execution_count": 9,
     "metadata": {},
     "output_type": "execute_result"
    }
   ],
   "source": [
    "plot_df"
   ]
  }
 ],
 "metadata": {
  "kernelspec": {
   "display_name": "Python 2",
   "language": "python",
   "name": "python2"
  },
  "language_info": {
   "codemirror_mode": {
    "name": "ipython",
    "version": 2
   },
   "file_extension": ".py",
   "mimetype": "text/x-python",
   "name": "python",
   "nbconvert_exporter": "python",
   "pygments_lexer": "ipython2",
   "version": "2.7.11"
  }
 },
 "nbformat": 4,
 "nbformat_minor": 0
}
