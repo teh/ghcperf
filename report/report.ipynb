{
 "cells": [
  {
   "cell_type": "markdown",
   "metadata": {},
   "source": [
    "# ghcperf report \n",
    "\n",
    "See https://github.com/teh/ghcperf for more details."
   ]
  },
  {
   "cell_type": "code",
   "execution_count": 1,
   "metadata": {
    "collapsed": true
   },
   "outputs": [],
   "source": [
    "%matplotlib inline\n",
    "import glob\n",
    "import pandas\n",
    "import json\n",
    "import datetime"
   ]
  },
  {
   "cell_type": "code",
   "execution_count": 2,
   "metadata": {
    "collapsed": false
   },
   "outputs": [
    {
     "data": {
      "text/plain": [
       "'2016-03-10T14:03:12.065012'"
      ]
     },
     "execution_count": 2,
     "metadata": {},
     "output_type": "execute_result"
    }
   ],
   "source": [
    "datetime.datetime.utcnow().isoformat()"
   ]
  },
  {
   "cell_type": "markdown",
   "metadata": {},
   "source": [
    "First copy the data fro S3."
   ]
  },
  {
   "cell_type": "code",
   "execution_count": 3,
   "metadata": {
    "collapsed": false
   },
   "outputs": [
    {
     "name": "stdout",
     "output_type": "stream",
     "text": [
      "     48      48    5163\r\n"
     ]
    }
   ],
   "source": [
    "# Abuse /tmp as a cache so we don't do so many GETs\n",
    "!mkdir -p /tmp/report-data\n",
    "!aws s3 sync s3://ghcperf-results /tmp/report-data --no-sign-request --quiet\n",
    "!find /tmp/report-data | wc"
   ]
  },
  {
   "cell_type": "code",
   "execution_count": 4,
   "metadata": {
    "collapsed": true
   },
   "outputs": [],
   "source": [
    "def parse_name(s):\n",
    "    # Takes \n",
    "    # /tmp/report-data/5a494d8ec688e42601262913172f24cee7a36c9b/perf-1yjvliagav9mf7klzl4qjqs95iggv343-scientific-0.3.4.4.csv\n",
    "    # returns\n",
    "    # 5a494d8..., scientific-0.3.4.4\n",
    "    parts = s.split('/')\n",
    "    name = parts[4].split('-', 3)[2]\n",
    "    sha = parts[3]\n",
    "    return sha, name\n",
    "def read(x):\n",
    "    df = pandas.read_csv(x, skiprows=2, header=None, names=[\"value\", \"?\", \"name\", \"long_value\", \"?2\"])\n",
    "    sha, package = parse_name(x)\n",
    "    df['sha'] = sha[:8]\n",
    "    df['package'] = package\n",
    "    with open('/tmp/report-data/' + sha + \"/\" + \"commit_meta.json\") as f:\n",
    "        commit = json.load(f)\n",
    "        df['timestamp'] = commit['committer']['date'] \n",
    "    return df"
   ]
  },
  {
   "cell_type": "code",
   "execution_count": 5,
   "metadata": {
    "collapsed": false
   },
   "outputs": [
    {
     "data": {
      "text/html": [
       "<div>\n",
       "<table border=\"1\" class=\"dataframe\">\n",
       "  <thead>\n",
       "    <tr style=\"text-align: right;\">\n",
       "      <th></th>\n",
       "      <th>value</th>\n",
       "      <th>?</th>\n",
       "      <th>name</th>\n",
       "      <th>long_value</th>\n",
       "      <th>?2</th>\n",
       "      <th>sha</th>\n",
       "      <th>package</th>\n",
       "      <th>timestamp</th>\n",
       "    </tr>\n",
       "  </thead>\n",
       "  <tbody>\n",
       "    <tr>\n",
       "      <th>0</th>\n",
       "      <td>10914.611874</td>\n",
       "      <td>NaN</td>\n",
       "      <td>task-clock</td>\n",
       "      <td>10914611874</td>\n",
       "      <td>100</td>\n",
       "      <td>374f9199</td>\n",
       "      <td>hashable</td>\n",
       "      <td>2016-03-09T22:11:57Z</td>\n",
       "    </tr>\n",
       "    <tr>\n",
       "      <th>1</th>\n",
       "      <td>13060</td>\n",
       "      <td>NaN</td>\n",
       "      <td>context-switches</td>\n",
       "      <td>10914611874</td>\n",
       "      <td>100</td>\n",
       "      <td>374f9199</td>\n",
       "      <td>hashable</td>\n",
       "      <td>2016-03-09T22:11:57Z</td>\n",
       "    </tr>\n",
       "    <tr>\n",
       "      <th>2</th>\n",
       "      <td>7200</td>\n",
       "      <td>NaN</td>\n",
       "      <td>cpu-migrations</td>\n",
       "      <td>10914611874</td>\n",
       "      <td>100</td>\n",
       "      <td>374f9199</td>\n",
       "      <td>hashable</td>\n",
       "      <td>2016-03-09T22:11:57Z</td>\n",
       "    </tr>\n",
       "    <tr>\n",
       "      <th>3</th>\n",
       "      <td>925697</td>\n",
       "      <td>NaN</td>\n",
       "      <td>page-faults</td>\n",
       "      <td>10914611874</td>\n",
       "      <td>100</td>\n",
       "      <td>374f9199</td>\n",
       "      <td>hashable</td>\n",
       "      <td>2016-03-09T22:11:57Z</td>\n",
       "    </tr>\n",
       "    <tr>\n",
       "      <th>4</th>\n",
       "      <td>&lt;not supported&gt;</td>\n",
       "      <td>NaN</td>\n",
       "      <td>cycles</td>\n",
       "      <td>0</td>\n",
       "      <td>100</td>\n",
       "      <td>374f9199</td>\n",
       "      <td>hashable</td>\n",
       "      <td>2016-03-09T22:11:57Z</td>\n",
       "    </tr>\n",
       "  </tbody>\n",
       "</table>\n",
       "</div>"
      ],
      "text/plain": [
       "             value   ?              name   long_value   ?2       sha  \\\n",
       "0     10914.611874 NaN        task-clock  10914611874  100  374f9199   \n",
       "1            13060 NaN  context-switches  10914611874  100  374f9199   \n",
       "2             7200 NaN    cpu-migrations  10914611874  100  374f9199   \n",
       "3           925697 NaN       page-faults  10914611874  100  374f9199   \n",
       "4  <not supported> NaN            cycles            0  100  374f9199   \n",
       "\n",
       "    package             timestamp  \n",
       "0  hashable  2016-03-09T22:11:57Z  \n",
       "1  hashable  2016-03-09T22:11:57Z  \n",
       "2  hashable  2016-03-09T22:11:57Z  \n",
       "3  hashable  2016-03-09T22:11:57Z  \n",
       "4  hashable  2016-03-09T22:11:57Z  "
      ]
     },
     "execution_count": 5,
     "metadata": {},
     "output_type": "execute_result"
    }
   ],
   "source": [
    "df = pandas.concat([read(x) for x in glob.glob('/tmp/report-data/*/*csv')], axis=0)\n",
    "df.head()"
   ]
  },
  {
   "cell_type": "code",
   "execution_count": 6,
   "metadata": {
    "collapsed": false
   },
   "outputs": [],
   "source": [
    "df = df[(df.name == \"task-clock\")]\n",
    "df['value'] = df['value'].astype('float')\n",
    "df['timestamp'] = df['timestamp'].astype('datetime64[ns]')"
   ]
  },
  {
   "cell_type": "code",
   "execution_count": 7,
   "metadata": {
    "collapsed": false
   },
   "outputs": [],
   "source": [
    "plot_df = df[df.package.isin(['aeson', 'text'])]\\\n",
    "    .groupby(['timestamp', 'sha', 'package'])\\\n",
    "    .value\\\n",
    "    .agg(['mean', 'median', 'std'])"
   ]
  },
  {
   "cell_type": "markdown",
   "metadata": {},
   "source": [
    "# task-clock over time"
   ]
  },
  {
   "cell_type": "code",
   "execution_count": 8,
   "metadata": {
    "collapsed": false
   },
   "outputs": [
    {
     "data": {
      "text/plain": [
       "<matplotlib.axes._subplots.AxesSubplot at 0x7f8ffc2bf590>"
      ]
     },
     "execution_count": 8,
     "metadata": {},
     "output_type": "execute_result"
    },
    {
     "data": {
      "image/png": "[encoded data removed]",
      "text/plain": [
       "<matplotlib.figure.Figure at 0x7f8ffc296c90>"
      ]
     },
     "metadata": {},
     "output_type": "display_data"
    }
   ],
   "source": [
    "pdf = plot_df.unstack().reset_index(level=1, drop=True)\n",
    "pdf['mean'].plot(yerr=pdf['std'])"
   ]
  },
  {
   "cell_type": "code",
   "execution_count": 9,
   "metadata": {
    "collapsed": false
   },
   "outputs": [
    {
     "data": {
      "text/html": [
       "<div>\n",
       "<table border=\"1\" class=\"dataframe\">\n",
       "  <thead>\n",
       "    <tr style=\"text-align: right;\">\n",
       "      <th></th>\n",
       "      <th></th>\n",
       "      <th></th>\n",
       "      <th>mean</th>\n",
       "      <th>median</th>\n",
       "      <th>std</th>\n",
       "    </tr>\n",
       "    <tr>\n",
       "      <th>timestamp</th>\n",
       "      <th>sha</th>\n",
       "      <th>package</th>\n",
       "      <th></th>\n",
       "      <th></th>\n",
       "      <th></th>\n",
       "    </tr>\n",
       "  </thead>\n",
       "  <tbody>\n",
       "    <tr>\n",
       "      <th rowspan=\"2\" valign=\"top\">2016-03-09 13:16:13</th>\n",
       "      <th rowspan=\"2\" valign=\"top\">5a494d8e</th>\n",
       "      <th>aeson</th>\n",
       "      <td>124054.787897</td>\n",
       "      <td>124017.765628</td>\n",
       "      <td>120.770088</td>\n",
       "    </tr>\n",
       "    <tr>\n",
       "      <th>text</th>\n",
       "      <td>112309.488031</td>\n",
       "      <td>112286.952585</td>\n",
       "      <td>82.997220</td>\n",
       "    </tr>\n",
       "    <tr>\n",
       "      <th rowspan=\"2\" valign=\"top\">2016-03-09 22:11:57</th>\n",
       "      <th rowspan=\"2\" valign=\"top\">374f9199</th>\n",
       "      <th>aeson</th>\n",
       "      <td>124056.637195</td>\n",
       "      <td>124054.835207</td>\n",
       "      <td>53.562156</td>\n",
       "    </tr>\n",
       "    <tr>\n",
       "      <th>text</th>\n",
       "      <td>112209.365236</td>\n",
       "      <td>112228.105015</td>\n",
       "      <td>132.786385</td>\n",
       "    </tr>\n",
       "  </tbody>\n",
       "</table>\n",
       "</div>"
      ],
      "text/plain": [
       "                                               mean         median         std\n",
       "timestamp           sha      package                                          \n",
       "2016-03-09 13:16:13 5a494d8e aeson    124054.787897  124017.765628  120.770088\n",
       "                             text     112309.488031  112286.952585   82.997220\n",
       "2016-03-09 22:11:57 374f9199 aeson    124056.637195  124054.835207   53.562156\n",
       "                             text     112209.365236  112228.105015  132.786385"
      ]
     },
     "execution_count": 9,
     "metadata": {},
     "output_type": "execute_result"
    }
   ],
   "source": [
    "plot_df"
   ]
  }
 ],
 "metadata": {
  "kernelspec": {
   "display_name": "Python 2",
   "language": "python",
   "name": "python2"
  },
  "language_info": {
   "codemirror_mode": {
    "name": "ipython",
    "version": 2
   },
   "file_extension": ".py",
   "mimetype": "text/x-python",
   "name": "python",
   "nbconvert_exporter": "python",
   "pygments_lexer": "ipython2",
   "version": "2.7.11"
  }
 },
 "nbformat": 4,
 "nbformat_minor": 0
}
