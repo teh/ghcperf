{
 "cells": [
  {
   "cell_type": "code",
   "execution_count": 13,
   "metadata": {
    "collapsed": true
   },
   "outputs": [],
   "source": [
    "%matplotlib inline\n",
    "import glob\n",
    "import pandas\n",
    "import json\n",
    "import datetime"
   ]
  },
  {
   "cell_type": "code",
   "execution_count": 15,
   "metadata": {
    "collapsed": false
   },
   "outputs": [
    {
     "data": {
      "text/plain": [
       "'2016-03-09T19:28:09.887749'"
      ]
     },
     "execution_count": 15,
     "metadata": {},
     "output_type": "execute_result"
    }
   ],
   "source": [
    "datetime.datetime.utcnow().isoformat()"
   ]
  },
  {
   "cell_type": "code",
   "execution_count": 5,
   "metadata": {
    "collapsed": false
   },
   "outputs": [
    {
     "name": "stdout",
     "output_type": "stream",
     "text": [
      "     22      22    2298\r\n"
     ]
    }
   ],
   "source": [
    "# Abuse /tmp as a cache so we don't do so many GETs\n",
    "!mkdir -p /tmp/report-data\n",
    "!aws s3 sync s3://ghcperf-results /tmp/report-data --no-sign-request --quiet\n",
    "!find /tmp/report-data | wc"
   ]
  },
  {
   "cell_type": "code",
   "execution_count": 3,
   "metadata": {
    "collapsed": true
   },
   "outputs": [],
   "source": [
    "def parse_name(s):\n",
    "    # Takes \n",
    "    # /tmp/report-data/5a494d8ec688e42601262913172f24cee7a36c9b/perf-1yjvliagav9mf7klzl4qjqs95iggv343-scientific-0.3.4.4.csv\n",
    "    # returns\n",
    "    # 5a494d8..., scientific-0.3.4.4\n",
    "    parts = s.split('/')\n",
    "    name = parts[4].split('-', 3)[2]\n",
    "    sha = parts[3]\n",
    "    return sha, name\n",
    "def read(x):\n",
    "    df = pandas.read_csv(x, skiprows=2, header=None, names=[\"value\", \"?\", \"name\", \"long_value\", \"?2\"])\n",
    "    sha, package = parse_name(x)\n",
    "    df['sha'] = sha[:8]\n",
    "    df['package'] = package\n",
    "    with open('/tmp/report-data/' + sha + \"/\" + \"commit_meta.json\") as f:\n",
    "        commit = json.load(f)\n",
    "        df['timestamp'] = commit['committer']['date'] \n",
    "    return df"
   ]
  },
  {
   "cell_type": "code",
   "execution_count": 4,
   "metadata": {
    "collapsed": false
   },
   "outputs": [
    {
     "data": {
      "text/html": [
       "<div>\n",
       "<table border=\"1\" class=\"dataframe\">\n",
       "  <thead>\n",
       "    <tr style=\"text-align: right;\">\n",
       "      <th></th>\n",
       "      <th>value</th>\n",
       "      <th>?</th>\n",
       "      <th>name</th>\n",
       "      <th>long_value</th>\n",
       "      <th>?2</th>\n",
       "      <th>sha</th>\n",
       "      <th>package</th>\n",
       "      <th>timestamp</th>\n",
       "    </tr>\n",
       "  </thead>\n",
       "  <tbody>\n",
       "    <tr>\n",
       "      <th>0</th>\n",
       "      <td>20965.327651</td>\n",
       "      <td>NaN</td>\n",
       "      <td>task-clock</td>\n",
       "      <td>20965327651</td>\n",
       "      <td>100</td>\n",
       "      <td>5a494d8e</td>\n",
       "      <td>scientific</td>\n",
       "      <td>2016-03-09T13:16:13Z</td>\n",
       "    </tr>\n",
       "    <tr>\n",
       "      <th>1</th>\n",
       "      <td>20847</td>\n",
       "      <td>NaN</td>\n",
       "      <td>context-switches</td>\n",
       "      <td>20965327651</td>\n",
       "      <td>100</td>\n",
       "      <td>5a494d8e</td>\n",
       "      <td>scientific</td>\n",
       "      <td>2016-03-09T13:16:13Z</td>\n",
       "    </tr>\n",
       "    <tr>\n",
       "      <th>2</th>\n",
       "      <td>11568</td>\n",
       "      <td>NaN</td>\n",
       "      <td>cpu-migrations</td>\n",
       "      <td>20965327651</td>\n",
       "      <td>100</td>\n",
       "      <td>5a494d8e</td>\n",
       "      <td>scientific</td>\n",
       "      <td>2016-03-09T13:16:13Z</td>\n",
       "    </tr>\n",
       "    <tr>\n",
       "      <th>3</th>\n",
       "      <td>1420941</td>\n",
       "      <td>NaN</td>\n",
       "      <td>page-faults</td>\n",
       "      <td>20965327651</td>\n",
       "      <td>100</td>\n",
       "      <td>5a494d8e</td>\n",
       "      <td>scientific</td>\n",
       "      <td>2016-03-09T13:16:13Z</td>\n",
       "    </tr>\n",
       "    <tr>\n",
       "      <th>4</th>\n",
       "      <td>&lt;not supported&gt;</td>\n",
       "      <td>NaN</td>\n",
       "      <td>cycles</td>\n",
       "      <td>0</td>\n",
       "      <td>100</td>\n",
       "      <td>5a494d8e</td>\n",
       "      <td>scientific</td>\n",
       "      <td>2016-03-09T13:16:13Z</td>\n",
       "    </tr>\n",
       "  </tbody>\n",
       "</table>\n",
       "</div>"
      ],
      "text/plain": [
       "             value   ?              name   long_value   ?2       sha  \\\n",
       "0     20965.327651 NaN        task-clock  20965327651  100  5a494d8e   \n",
       "1            20847 NaN  context-switches  20965327651  100  5a494d8e   \n",
       "2            11568 NaN    cpu-migrations  20965327651  100  5a494d8e   \n",
       "3          1420941 NaN       page-faults  20965327651  100  5a494d8e   \n",
       "4  <not supported> NaN            cycles            0  100  5a494d8e   \n",
       "\n",
       "      package             timestamp  \n",
       "0  scientific  2016-03-09T13:16:13Z  \n",
       "1  scientific  2016-03-09T13:16:13Z  \n",
       "2  scientific  2016-03-09T13:16:13Z  \n",
       "3  scientific  2016-03-09T13:16:13Z  \n",
       "4  scientific  2016-03-09T13:16:13Z  "
      ]
     },
     "execution_count": 4,
     "metadata": {},
     "output_type": "execute_result"
    }
   ],
   "source": [
    "df = pandas.concat([read(x) for x in glob.glob('/tmp/report-data/*/*csv')], axis=0)\n",
    "df.head()"
   ]
  },
  {
   "cell_type": "code",
   "execution_count": 5,
   "metadata": {
    "collapsed": false
   },
   "outputs": [],
   "source": [
    "df = df[(df.name == \"task-clock\")]\n",
    "df['value'] = df['value'].astype('float')\n",
    "df['timestamp'] = df['timestamp'].astype('datetime64[ns]')"
   ]
  },
  {
   "cell_type": "code",
   "execution_count": 12,
   "metadata": {
    "collapsed": false
   },
   "outputs": [
    {
     "name": "stderr",
     "output_type": "stream",
     "text": [
      "/nix/store/5d2qd7ax9ww1jc5iavg9s36j56z765a4-python2.7-matplotlib-1.5.1/lib/python2.7/site-packages/matplotlib/axes/_base.py:2787: UserWarning: Attempting to set identical left==right results\n",
      "in singular transformations; automatically expanding.\n",
      "left=736032.552928, right=736032.552928\n",
      "  'left=%s, right=%s') % (left, right))\n"
     ]
    },
    {
     "data": {
      "text/plain": [
       "<matplotlib.axes._subplots.AxesSubplot at 0x7f0481f3e7d0>"
      ]
     },
     "execution_count": 12,
     "metadata": {},
     "output_type": "execute_result"
    },
    {
     "data": {
      "image/png": "[encoded data removed]",
      "text/plain": [
       "<matplotlib.figure.Figure at 0x7f0483c61bd0>"
      ]
     },
     "metadata": {},
     "output_type": "display_data"
    }
   ],
   "source": [
    "df.groupby(['timestamp', 'package'])['value'].agg(['mean', 'count']).reset_index('package').plot()"
   ]
  },
  {
   "cell_type": "code",
   "execution_count": 34,
   "metadata": {
    "collapsed": false
   },
   "outputs": [
    {
     "data": {
      "text/html": [
       "<div>\n",
       "<table border=\"1\" class=\"dataframe\">\n",
       "  <thead>\n",
       "    <tr style=\"text-align: right;\">\n",
       "      <th></th>\n",
       "      <th></th>\n",
       "      <th></th>\n",
       "      <th>mean</th>\n",
       "      <th>median</th>\n",
       "      <th>std</th>\n",
       "    </tr>\n",
       "    <tr>\n",
       "      <th>timestamp</th>\n",
       "      <th>sha</th>\n",
       "      <th>package</th>\n",
       "      <th></th>\n",
       "      <th></th>\n",
       "      <th></th>\n",
       "    </tr>\n",
       "  </thead>\n",
       "  <tbody>\n",
       "    <tr>\n",
       "      <th rowspan=\"2\" valign=\"top\">2016-03-09 13:16:13</th>\n",
       "      <th rowspan=\"2\" valign=\"top\">5a494d8e</th>\n",
       "      <th>aeson</th>\n",
       "      <td>124098.443875</td>\n",
       "      <td>124041.674617</td>\n",
       "      <td>170.106011</td>\n",
       "    </tr>\n",
       "    <tr>\n",
       "      <th>text</th>\n",
       "      <td>112309.488031</td>\n",
       "      <td>112286.952585</td>\n",
       "      <td>82.997220</td>\n",
       "    </tr>\n",
       "  </tbody>\n",
       "</table>\n",
       "</div>"
      ],
      "text/plain": [
       "                                               mean         median         std\n",
       "timestamp           sha      package                                          \n",
       "2016-03-09 13:16:13 5a494d8e aeson    124098.443875  124041.674617  170.106011\n",
       "                             text     112309.488031  112286.952585   82.997220"
      ]
     },
     "execution_count": 34,
     "metadata": {},
     "output_type": "execute_result"
    }
   ],
   "source": [
    "df[df.package.isin(['aeson', 'text'])]\\\n",
    "    .groupby(['timestamp', 'sha', 'package'])\\\n",
    "    .value\\\n",
    "    .agg(['mean', 'median', 'std'])\\"
   ]
  }
 ],
 "metadata": {
  "kernelspec": {
   "display_name": "Python 2",
   "language": "python",
   "name": "python2"
  },
  "language_info": {
   "codemirror_mode": {
    "name": "ipython",
    "version": 2
   },
   "file_extension": ".py",
   "mimetype": "text/x-python",
   "name": "python",
   "nbconvert_exporter": "python",
   "pygments_lexer": "ipython2",
   "version": "2.7.11"
  }
 },
 "nbformat": 4,
 "nbformat_minor": 0
}
